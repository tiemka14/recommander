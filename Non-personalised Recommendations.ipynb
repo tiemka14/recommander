{
 "cells": [
  {
   "cell_type": "markdown",
   "id": "acoustic-baking",
   "metadata": {},
   "source": [
    "# Non-personalised Recommendations"
   ]
  },
  {
   "cell_type": "markdown",
   "id": "incredible-pendant",
   "metadata": {},
   "source": [
    "## Import packages"
   ]
  },
  {
   "cell_type": "code",
   "execution_count": 6,
   "id": "broken-polyester",
   "metadata": {},
   "outputs": [],
   "source": [
    "import numpy as np\n",
    "import pandas as pd\n",
    "import matplotlib.pyplot as plt\n",
    "import seaborn as sns"
   ]
  },
  {
   "cell_type": "markdown",
   "id": "hidden-giving",
   "metadata": {},
   "source": [
    "## Get data"
   ]
  },
  {
   "cell_type": "code",
   "execution_count": 7,
   "id": "failing-orange",
   "metadata": {},
   "outputs": [
    {
     "name": "stderr",
     "output_type": "stream",
     "text": [
      "C:\\ProgramData\\Anaconda3\\envs\\prs2\\lib\\site-packages\\ipykernel_launcher.py:1: ParserWarning: Falling back to the 'python' engine because the 'c' engine does not support regex separators (separators > 1 char and different from '\\s+' are interpreted as regex); you can avoid this warning by specifying engine='python'.\n",
      "  \"\"\"Entry point for launching an IPython kernel.\n"
     ]
    }
   ],
   "source": [
    "ratings = pd.read_csv('https://raw.githubusercontent.com/sidooms/MovieTweetings/master/latest/ratings.dat',sep='::',names=['user_id', 'movie_id', 'rating', 'rating_timestamp'],dtype={'user_id':'Int64', 'movie_id':'str', 'rating':'Int64', 'rating_timestamp':'Int64'})"
   ]
  },
  {
   "cell_type": "code",
   "execution_count": 8,
   "id": "exceptional-quilt",
   "metadata": {},
   "outputs": [
    {
     "data": {
      "text/html": [
       "<div>\n",
       "<style scoped>\n",
       "    .dataframe tbody tr th:only-of-type {\n",
       "        vertical-align: middle;\n",
       "    }\n",
       "\n",
       "    .dataframe tbody tr th {\n",
       "        vertical-align: top;\n",
       "    }\n",
       "\n",
       "    .dataframe thead th {\n",
       "        text-align: right;\n",
       "    }\n",
       "</style>\n",
       "<table border=\"1\" class=\"dataframe\">\n",
       "  <thead>\n",
       "    <tr style=\"text-align: right;\">\n",
       "      <th></th>\n",
       "      <th>user_id</th>\n",
       "      <th>movie_id</th>\n",
       "      <th>rating</th>\n",
       "      <th>rating_timestamp</th>\n",
       "    </tr>\n",
       "  </thead>\n",
       "  <tbody>\n",
       "    <tr>\n",
       "      <th>0</th>\n",
       "      <td>1</td>\n",
       "      <td>0114508</td>\n",
       "      <td>8</td>\n",
       "      <td>1381006850</td>\n",
       "    </tr>\n",
       "    <tr>\n",
       "      <th>1</th>\n",
       "      <td>2</td>\n",
       "      <td>0499549</td>\n",
       "      <td>9</td>\n",
       "      <td>1376753198</td>\n",
       "    </tr>\n",
       "    <tr>\n",
       "      <th>2</th>\n",
       "      <td>2</td>\n",
       "      <td>1305591</td>\n",
       "      <td>8</td>\n",
       "      <td>1376742507</td>\n",
       "    </tr>\n",
       "    <tr>\n",
       "      <th>3</th>\n",
       "      <td>2</td>\n",
       "      <td>1428538</td>\n",
       "      <td>1</td>\n",
       "      <td>1371307089</td>\n",
       "    </tr>\n",
       "    <tr>\n",
       "      <th>4</th>\n",
       "      <td>3</td>\n",
       "      <td>0075314</td>\n",
       "      <td>1</td>\n",
       "      <td>1595468524</td>\n",
       "    </tr>\n",
       "  </tbody>\n",
       "</table>\n",
       "</div>"
      ],
      "text/plain": [
       "   user_id movie_id  rating  rating_timestamp\n",
       "0        1  0114508       8        1381006850\n",
       "1        2  0499549       9        1376753198\n",
       "2        2  1305591       8        1376742507\n",
       "3        2  1428538       1        1371307089\n",
       "4        3  0075314       1        1595468524"
      ]
     },
     "execution_count": 8,
     "metadata": {},
     "output_type": "execute_result"
    }
   ],
   "source": [
    "ratings.head()"
   ]
  },
  {
   "cell_type": "code",
   "execution_count": 10,
   "id": "harmful-marble",
   "metadata": {},
   "outputs": [
    {
     "name": "stderr",
     "output_type": "stream",
     "text": [
      "C:\\ProgramData\\Anaconda3\\envs\\prs2\\lib\\site-packages\\ipykernel_launcher.py:1: ParserWarning: Falling back to the 'python' engine because the 'c' engine does not support regex separators (separators > 1 char and different from '\\s+' are interpreted as regex); you can avoid this warning by specifying engine='python'.\n",
      "  \"\"\"Entry point for launching an IPython kernel.\n"
     ]
    }
   ],
   "source": [
    "genres = pd.read_csv('https://raw.githubusercontent.com/sidooms/MovieTweetings/master/latest/movies.dat',sep='::',names=['movie_id', 'title', 'genre'],dtype={'movie_id':'str', 'title':'str', 'genre':'str'},encoding='utf-8')"
   ]
  },
  {
   "cell_type": "code",
   "execution_count": 11,
   "id": "utility-november",
   "metadata": {},
   "outputs": [
    {
     "data": {
      "text/html": [
       "<div>\n",
       "<style scoped>\n",
       "    .dataframe tbody tr th:only-of-type {\n",
       "        vertical-align: middle;\n",
       "    }\n",
       "\n",
       "    .dataframe tbody tr th {\n",
       "        vertical-align: top;\n",
       "    }\n",
       "\n",
       "    .dataframe thead th {\n",
       "        text-align: right;\n",
       "    }\n",
       "</style>\n",
       "<table border=\"1\" class=\"dataframe\">\n",
       "  <thead>\n",
       "    <tr style=\"text-align: right;\">\n",
       "      <th></th>\n",
       "      <th>movie_id</th>\n",
       "      <th>title</th>\n",
       "      <th>genre</th>\n",
       "    </tr>\n",
       "  </thead>\n",
       "  <tbody>\n",
       "    <tr>\n",
       "      <th>0</th>\n",
       "      <td>0000008</td>\n",
       "      <td>Edison Kinetoscopic Record of a Sneeze (1894)</td>\n",
       "      <td>Documentary|Short</td>\n",
       "    </tr>\n",
       "    <tr>\n",
       "      <th>1</th>\n",
       "      <td>0000010</td>\n",
       "      <td>La sortie des usines Lumière (1895)</td>\n",
       "      <td>Documentary|Short</td>\n",
       "    </tr>\n",
       "    <tr>\n",
       "      <th>2</th>\n",
       "      <td>0000012</td>\n",
       "      <td>The Arrival of a Train (1896)</td>\n",
       "      <td>Documentary|Short</td>\n",
       "    </tr>\n",
       "    <tr>\n",
       "      <th>3</th>\n",
       "      <td>25</td>\n",
       "      <td>The Oxford and Cambridge University Boat Race ...</td>\n",
       "      <td>nan</td>\n",
       "    </tr>\n",
       "    <tr>\n",
       "      <th>4</th>\n",
       "      <td>0000091</td>\n",
       "      <td>Le manoir du diable (1896)</td>\n",
       "      <td>Short|Horror</td>\n",
       "    </tr>\n",
       "  </tbody>\n",
       "</table>\n",
       "</div>"
      ],
      "text/plain": [
       "  movie_id                                              title  \\\n",
       "0  0000008      Edison Kinetoscopic Record of a Sneeze (1894)   \n",
       "1  0000010                La sortie des usines Lumière (1895)   \n",
       "2  0000012                      The Arrival of a Train (1896)   \n",
       "3       25  The Oxford and Cambridge University Boat Race ...   \n",
       "4  0000091                         Le manoir du diable (1896)   \n",
       "\n",
       "               genre  \n",
       "0  Documentary|Short  \n",
       "1  Documentary|Short  \n",
       "2  Documentary|Short  \n",
       "3                nan  \n",
       "4       Short|Horror  "
      ]
     },
     "execution_count": 11,
     "metadata": {},
     "output_type": "execute_result"
    }
   ],
   "source": [
    "genres.head()"
   ]
  },
  {
   "cell_type": "markdown",
   "id": "extended-daily",
   "metadata": {},
   "source": [
    "## Clean data"
   ]
  },
  {
   "cell_type": "code",
   "execution_count": 12,
   "id": "silver-religious",
   "metadata": {},
   "outputs": [
    {
     "name": "stdout",
     "output_type": "stream",
     "text": [
      "<class 'pandas.core.frame.DataFrame'>\n",
      "RangeIndex: 898623 entries, 0 to 898622\n",
      "Data columns (total 4 columns):\n",
      "user_id             898623 non-null int64\n",
      "movie_id            898623 non-null object\n",
      "rating              898623 non-null int64\n",
      "rating_timestamp    898623 non-null int64\n",
      "dtypes: int64(3), object(1)\n",
      "memory usage: 27.4+ MB\n"
     ]
    }
   ],
   "source": [
    "ratings.info()"
   ]
  },
  {
   "cell_type": "code",
   "execution_count": 13,
   "id": "emerging-ireland",
   "metadata": {},
   "outputs": [
    {
     "data": {
      "text/html": [
       "<div>\n",
       "<style scoped>\n",
       "    .dataframe tbody tr th:only-of-type {\n",
       "        vertical-align: middle;\n",
       "    }\n",
       "\n",
       "    .dataframe tbody tr th {\n",
       "        vertical-align: top;\n",
       "    }\n",
       "\n",
       "    .dataframe thead th {\n",
       "        text-align: right;\n",
       "    }\n",
       "</style>\n",
       "<table border=\"1\" class=\"dataframe\">\n",
       "  <thead>\n",
       "    <tr style=\"text-align: right;\">\n",
       "      <th></th>\n",
       "      <th>user_id</th>\n",
       "      <th>rating</th>\n",
       "      <th>rating_timestamp</th>\n",
       "    </tr>\n",
       "  </thead>\n",
       "  <tbody>\n",
       "    <tr>\n",
       "      <th>count</th>\n",
       "      <td>898623.000000</td>\n",
       "      <td>898623.00000</td>\n",
       "      <td>8.986230e+05</td>\n",
       "    </tr>\n",
       "    <tr>\n",
       "      <th>mean</th>\n",
       "      <td>35304.105713</td>\n",
       "      <td>7.31676</td>\n",
       "      <td>1.461045e+09</td>\n",
       "    </tr>\n",
       "    <tr>\n",
       "      <th>std</th>\n",
       "      <td>20351.697825</td>\n",
       "      <td>1.85298</td>\n",
       "      <td>7.054475e+07</td>\n",
       "    </tr>\n",
       "    <tr>\n",
       "      <th>min</th>\n",
       "      <td>1.000000</td>\n",
       "      <td>0.00000</td>\n",
       "      <td>1.362062e+09</td>\n",
       "    </tr>\n",
       "    <tr>\n",
       "      <th>25%</th>\n",
       "      <td>17998.000000</td>\n",
       "      <td>6.00000</td>\n",
       "      <td>1.396694e+09</td>\n",
       "    </tr>\n",
       "    <tr>\n",
       "      <th>50%</th>\n",
       "      <td>35136.000000</td>\n",
       "      <td>8.00000</td>\n",
       "      <td>1.451326e+09</td>\n",
       "    </tr>\n",
       "    <tr>\n",
       "      <th>75%</th>\n",
       "      <td>52537.000000</td>\n",
       "      <td>9.00000</td>\n",
       "      <td>1.516156e+09</td>\n",
       "    </tr>\n",
       "    <tr>\n",
       "      <th>max</th>\n",
       "      <td>70235.000000</td>\n",
       "      <td>10.00000</td>\n",
       "      <td>1.617055e+09</td>\n",
       "    </tr>\n",
       "  </tbody>\n",
       "</table>\n",
       "</div>"
      ],
      "text/plain": [
       "             user_id        rating  rating_timestamp\n",
       "count  898623.000000  898623.00000      8.986230e+05\n",
       "mean    35304.105713       7.31676      1.461045e+09\n",
       "std     20351.697825       1.85298      7.054475e+07\n",
       "min         1.000000       0.00000      1.362062e+09\n",
       "25%     17998.000000       6.00000      1.396694e+09\n",
       "50%     35136.000000       8.00000      1.451326e+09\n",
       "75%     52537.000000       9.00000      1.516156e+09\n",
       "max     70235.000000      10.00000      1.617055e+09"
      ]
     },
     "execution_count": 13,
     "metadata": {},
     "output_type": "execute_result"
    }
   ],
   "source": [
    "ratings.describe()"
   ]
  },
  {
   "cell_type": "code",
   "execution_count": 19,
   "id": "concrete-indiana",
   "metadata": {},
   "outputs": [
    {
     "data": {
      "text/plain": [
       "rating\n",
       "0        276\n",
       "1      10570\n",
       "2       8950\n",
       "3      15085\n",
       "4      27516\n",
       "5      67607\n",
       "6     117059\n",
       "7     201249\n",
       "8     216821\n",
       "9     127380\n",
       "10    106110\n",
       "Name: user_id, dtype: int64"
      ]
     },
     "execution_count": 19,
     "metadata": {},
     "output_type": "execute_result"
    }
   ],
   "source": [
    "ratings.groupby('rating').count()['user_id']"
   ]
  },
  {
   "cell_type": "code",
   "execution_count": 14,
   "id": "saved-chemistry",
   "metadata": {},
   "outputs": [
    {
     "name": "stdout",
     "output_type": "stream",
     "text": [
      "<class 'pandas.core.frame.DataFrame'>\n",
      "RangeIndex: 36991 entries, 0 to 36990\n",
      "Data columns (total 3 columns):\n",
      "movie_id    36991 non-null object\n",
      "title       36991 non-null object\n",
      "genre       36991 non-null object\n",
      "dtypes: object(3)\n",
      "memory usage: 867.1+ KB\n"
     ]
    }
   ],
   "source": [
    "genres.info()"
   ]
  },
  {
   "cell_type": "code",
   "execution_count": 15,
   "id": "ecological-steal",
   "metadata": {},
   "outputs": [
    {
     "data": {
      "text/html": [
       "<div>\n",
       "<style scoped>\n",
       "    .dataframe tbody tr th:only-of-type {\n",
       "        vertical-align: middle;\n",
       "    }\n",
       "\n",
       "    .dataframe tbody tr th {\n",
       "        vertical-align: top;\n",
       "    }\n",
       "\n",
       "    .dataframe thead th {\n",
       "        text-align: right;\n",
       "    }\n",
       "</style>\n",
       "<table border=\"1\" class=\"dataframe\">\n",
       "  <thead>\n",
       "    <tr style=\"text-align: right;\">\n",
       "      <th></th>\n",
       "      <th>movie_id</th>\n",
       "      <th>title</th>\n",
       "      <th>genre</th>\n",
       "    </tr>\n",
       "  </thead>\n",
       "  <tbody>\n",
       "    <tr>\n",
       "      <th>count</th>\n",
       "      <td>36991</td>\n",
       "      <td>36991</td>\n",
       "      <td>36991</td>\n",
       "    </tr>\n",
       "    <tr>\n",
       "      <th>unique</th>\n",
       "      <td>36991</td>\n",
       "      <td>36923</td>\n",
       "      <td>2799</td>\n",
       "    </tr>\n",
       "    <tr>\n",
       "      <th>top</th>\n",
       "      <td>5507860</td>\n",
       "      <td>Home (2016)</td>\n",
       "      <td>Drama</td>\n",
       "    </tr>\n",
       "    <tr>\n",
       "      <th>freq</th>\n",
       "      <td>1</td>\n",
       "      <td>4</td>\n",
       "      <td>3836</td>\n",
       "    </tr>\n",
       "  </tbody>\n",
       "</table>\n",
       "</div>"
      ],
      "text/plain": [
       "       movie_id        title  genre\n",
       "count     36991        36991  36991\n",
       "unique    36991        36923   2799\n",
       "top     5507860  Home (2016)  Drama\n",
       "freq          1            4   3836"
      ]
     },
     "execution_count": 15,
     "metadata": {},
     "output_type": "execute_result"
    }
   ],
   "source": [
    "genres.describe()"
   ]
  },
  {
   "cell_type": "code",
   "execution_count": 16,
   "id": "short-hunter",
   "metadata": {},
   "outputs": [
    {
     "data": {
      "text/html": [
       "<div>\n",
       "<style scoped>\n",
       "    .dataframe tbody tr th:only-of-type {\n",
       "        vertical-align: middle;\n",
       "    }\n",
       "\n",
       "    .dataframe tbody tr th {\n",
       "        vertical-align: top;\n",
       "    }\n",
       "\n",
       "    .dataframe thead th {\n",
       "        text-align: right;\n",
       "    }\n",
       "</style>\n",
       "<table border=\"1\" class=\"dataframe\">\n",
       "  <thead>\n",
       "    <tr style=\"text-align: right;\">\n",
       "      <th></th>\n",
       "      <th>movie_id</th>\n",
       "      <th>title</th>\n",
       "      <th>genre</th>\n",
       "    </tr>\n",
       "  </thead>\n",
       "  <tbody>\n",
       "    <tr>\n",
       "      <th>25057</th>\n",
       "      <td>2545384</td>\n",
       "      <td>Home (2016)</td>\n",
       "      <td>Drama|Horror|Thriller</td>\n",
       "    </tr>\n",
       "    <tr>\n",
       "      <th>29205</th>\n",
       "      <td>4047846</td>\n",
       "      <td>Home (2016)</td>\n",
       "      <td>Drama</td>\n",
       "    </tr>\n",
       "    <tr>\n",
       "      <th>32064</th>\n",
       "      <td>5593606</td>\n",
       "      <td>Home (2016)</td>\n",
       "      <td>Short|Drama</td>\n",
       "    </tr>\n",
       "    <tr>\n",
       "      <th>32731</th>\n",
       "      <td>5969228</td>\n",
       "      <td>Home (2016)</td>\n",
       "      <td>Short|Drama</td>\n",
       "    </tr>\n",
       "  </tbody>\n",
       "</table>\n",
       "</div>"
      ],
      "text/plain": [
       "      movie_id        title                  genre\n",
       "25057  2545384  Home (2016)  Drama|Horror|Thriller\n",
       "29205  4047846  Home (2016)                  Drama\n",
       "32064  5593606  Home (2016)            Short|Drama\n",
       "32731  5969228  Home (2016)            Short|Drama"
      ]
     },
     "execution_count": 16,
     "metadata": {},
     "output_type": "execute_result"
    }
   ],
   "source": [
    "genres[genres['title']=='Home (2016)']"
   ]
  },
  {
   "cell_type": "markdown",
   "id": "compressed-president",
   "metadata": {},
   "source": [
    "There are multiple films in 2016 titled Home"
   ]
  },
  {
   "cell_type": "code",
   "execution_count": 23,
   "id": "religious-guitar",
   "metadata": {},
   "outputs": [
    {
     "data": {
      "text/plain": [
       "genre\n",
       "Drama                   3836\n",
       "Comedy                  2234\n",
       "Documentary             1563\n",
       "Comedy|Drama            1426\n",
       "Drama|Romance           1247\n",
       "Comedy|Drama|Romance    1014\n",
       "Comedy|Romance           878\n",
       "Horror                   872\n",
       "Horror|Thriller          592\n",
       "Drama|Thriller           524\n",
       "Name: movie_id, dtype: int64"
      ]
     },
     "execution_count": 23,
     "metadata": {},
     "output_type": "execute_result"
    }
   ],
   "source": [
    "genres.groupby('genre').count().sort_values('movie_id', ascending=False)['movie_id'].head(10)"
   ]
  },
  {
   "cell_type": "code",
   "execution_count": 31,
   "id": "bearing-training",
   "metadata": {},
   "outputs": [],
   "source": [
    "def count_genres(list):\n",
    "    genre_cnt = {}\n",
    "    \n",
    "    for item in genres['genre']:\n",
    "        item_list = item.split('|')\n",
    "        for i in item_list:\n",
    "            if (i in genre_cnt):\n",
    "                genre_cnt[i] += 1\n",
    "            else:\n",
    "                genre_cnt[i] = 1\n",
    "                \n",
    "    return genre_cnt"
   ]
  },
  {
   "cell_type": "code",
   "execution_count": 32,
   "id": "related-mercy",
   "metadata": {},
   "outputs": [],
   "source": [
    "genre_count = count_genres(genres['genre'])"
   ]
  },
  {
   "cell_type": "code",
   "execution_count": 57,
   "id": "saving-privilege",
   "metadata": {},
   "outputs": [],
   "source": [
    "genre_count_df = pd.DataFrame.from_dict(genre_count, orient='index', columns=['count']).sort_values('count', ascending=False).reset_index()"
   ]
  },
  {
   "cell_type": "code",
   "execution_count": 58,
   "id": "offshore-russia",
   "metadata": {},
   "outputs": [
    {
     "data": {
      "text/html": [
       "<div>\n",
       "<style scoped>\n",
       "    .dataframe tbody tr th:only-of-type {\n",
       "        vertical-align: middle;\n",
       "    }\n",
       "\n",
       "    .dataframe tbody tr th {\n",
       "        vertical-align: top;\n",
       "    }\n",
       "\n",
       "    .dataframe thead th {\n",
       "        text-align: right;\n",
       "    }\n",
       "</style>\n",
       "<table border=\"1\" class=\"dataframe\">\n",
       "  <thead>\n",
       "    <tr style=\"text-align: right;\">\n",
       "      <th></th>\n",
       "      <th>index</th>\n",
       "      <th>count</th>\n",
       "    </tr>\n",
       "  </thead>\n",
       "  <tbody>\n",
       "    <tr>\n",
       "      <th>0</th>\n",
       "      <td>Drama</td>\n",
       "      <td>18821</td>\n",
       "    </tr>\n",
       "    <tr>\n",
       "      <th>1</th>\n",
       "      <td>Comedy</td>\n",
       "      <td>11526</td>\n",
       "    </tr>\n",
       "    <tr>\n",
       "      <th>2</th>\n",
       "      <td>Thriller</td>\n",
       "      <td>7782</td>\n",
       "    </tr>\n",
       "    <tr>\n",
       "      <th>3</th>\n",
       "      <td>Romance</td>\n",
       "      <td>6341</td>\n",
       "    </tr>\n",
       "    <tr>\n",
       "      <th>4</th>\n",
       "      <td>Action</td>\n",
       "      <td>5542</td>\n",
       "    </tr>\n",
       "  </tbody>\n",
       "</table>\n",
       "</div>"
      ],
      "text/plain": [
       "      index  count\n",
       "0     Drama  18821\n",
       "1    Comedy  11526\n",
       "2  Thriller   7782\n",
       "3   Romance   6341\n",
       "4    Action   5542"
      ]
     },
     "execution_count": 58,
     "metadata": {},
     "output_type": "execute_result"
    }
   ],
   "source": [
    "genre_count_df.head()"
   ]
  },
  {
   "cell_type": "markdown",
   "id": "radio-installation",
   "metadata": {},
   "source": [
    "nan values are not filtered as these films can appear in general category"
   ]
  },
  {
   "cell_type": "markdown",
   "id": "infectious-bidder",
   "metadata": {},
   "source": [
    "## Create charts"
   ]
  },
  {
   "cell_type": "markdown",
   "id": "complete-treaty",
   "metadata": {},
   "source": [
    "TOP10 charts for general category and all genres with at least a hundred films.\n",
    "TOP10 is defined by number of ratings."
   ]
  },
  {
   "cell_type": "code",
   "execution_count": 41,
   "id": "regulated-vermont",
   "metadata": {},
   "outputs": [],
   "source": [
    "ratings_aggr = ratings.groupby('movie_id').count()['rating']"
   ]
  },
  {
   "cell_type": "code",
   "execution_count": 45,
   "id": "reduced-center",
   "metadata": {},
   "outputs": [],
   "source": [
    "ratings_aggr = ratings_aggr.reset_index().sort_values('rating', ascending=False)"
   ]
  },
  {
   "cell_type": "code",
   "execution_count": 48,
   "id": "reasonable-status",
   "metadata": {},
   "outputs": [],
   "source": [
    "#genres[genres['genre'].str.contains('Short')]"
   ]
  },
  {
   "cell_type": "code",
   "execution_count": 53,
   "id": "advanced-amsterdam",
   "metadata": {},
   "outputs": [],
   "source": [
    "#pd.merge(ratings_aggr, genres, on='movie_id')"
   ]
  },
  {
   "cell_type": "code",
   "execution_count": 54,
   "id": "pregnant-connection",
   "metadata": {},
   "outputs": [],
   "source": [
    "def top_n_chart(movie_list,ratings_df, n=10):\n",
    "    '''\n",
    "    Returns a df: index, movie_id, movie_title, number_ratings\n",
    "    '''\n",
    "    \n",
    "    return pd.merge(ratings_df, movie_list, on='movie_id').iloc[0:n]\n",
    "    "
   ]
  },
  {
   "cell_type": "code",
   "execution_count": 56,
   "id": "bound-medium",
   "metadata": {},
   "outputs": [
    {
     "data": {
      "text/html": [
       "<div>\n",
       "<style scoped>\n",
       "    .dataframe tbody tr th:only-of-type {\n",
       "        vertical-align: middle;\n",
       "    }\n",
       "\n",
       "    .dataframe tbody tr th {\n",
       "        vertical-align: top;\n",
       "    }\n",
       "\n",
       "    .dataframe thead th {\n",
       "        text-align: right;\n",
       "    }\n",
       "</style>\n",
       "<table border=\"1\" class=\"dataframe\">\n",
       "  <thead>\n",
       "    <tr style=\"text-align: right;\">\n",
       "      <th></th>\n",
       "      <th>movie_id</th>\n",
       "      <th>rating</th>\n",
       "      <th>title</th>\n",
       "      <th>genre</th>\n",
       "    </tr>\n",
       "  </thead>\n",
       "  <tbody>\n",
       "    <tr>\n",
       "      <th>0</th>\n",
       "      <td>10367276</td>\n",
       "      <td>96</td>\n",
       "      <td>The Rat (2019)</td>\n",
       "      <td>Short|Drama</td>\n",
       "    </tr>\n",
       "    <tr>\n",
       "      <th>1</th>\n",
       "      <td>3472226</td>\n",
       "      <td>90</td>\n",
       "      <td>Kung Fury (2015)</td>\n",
       "      <td>Short|Action|Comedy|Fantasy|Sci-Fi</td>\n",
       "    </tr>\n",
       "    <tr>\n",
       "      <th>2</th>\n",
       "      <td>6073176</td>\n",
       "      <td>36</td>\n",
       "      <td>The White Helmets (2016)</td>\n",
       "      <td>Documentary|Short|Crime|War</td>\n",
       "    </tr>\n",
       "    <tr>\n",
       "      <th>3</th>\n",
       "      <td>6620846</td>\n",
       "      <td>32</td>\n",
       "      <td>Wasati (2016)</td>\n",
       "      <td>Short|Adventure|Comedy</td>\n",
       "    </tr>\n",
       "    <tr>\n",
       "      <th>4</th>\n",
       "      <td>5613056</td>\n",
       "      <td>31</td>\n",
       "      <td>Piper (2016)</td>\n",
       "      <td>Animation|Short|Family</td>\n",
       "    </tr>\n",
       "    <tr>\n",
       "      <th>5</th>\n",
       "      <td>5262972</td>\n",
       "      <td>28</td>\n",
       "      <td>Avengers: Age of Ultron Parody (2015)</td>\n",
       "      <td>Short|Comedy</td>\n",
       "    </tr>\n",
       "    <tr>\n",
       "      <th>6</th>\n",
       "      <td>0056119</td>\n",
       "      <td>27</td>\n",
       "      <td>La jetée (1962)</td>\n",
       "      <td>Short|Drama|Romance|Sci-Fi</td>\n",
       "    </tr>\n",
       "    <tr>\n",
       "      <th>7</th>\n",
       "      <td>2388725</td>\n",
       "      <td>27</td>\n",
       "      <td>Paperman (2012)</td>\n",
       "      <td>Animation|Short|Comedy|Family|Romance</td>\n",
       "    </tr>\n",
       "    <tr>\n",
       "      <th>8</th>\n",
       "      <td>10516984</td>\n",
       "      <td>24</td>\n",
       "      <td>Anima (2019)</td>\n",
       "      <td>Short|Music</td>\n",
       "    </tr>\n",
       "    <tr>\n",
       "      <th>9</th>\n",
       "      <td>8075496</td>\n",
       "      <td>23</td>\n",
       "      <td>Bao (2018)</td>\n",
       "      <td>Animation|Short|Family|Fantasy</td>\n",
       "    </tr>\n",
       "  </tbody>\n",
       "</table>\n",
       "</div>"
      ],
      "text/plain": [
       "   movie_id  rating                                  title  \\\n",
       "0  10367276      96                         The Rat (2019)   \n",
       "1   3472226      90                       Kung Fury (2015)   \n",
       "2   6073176      36               The White Helmets (2016)   \n",
       "3   6620846      32                          Wasati (2016)   \n",
       "4   5613056      31                           Piper (2016)   \n",
       "5   5262972      28  Avengers: Age of Ultron Parody (2015)   \n",
       "6   0056119      27                        La jetée (1962)   \n",
       "7   2388725      27                        Paperman (2012)   \n",
       "8  10516984      24                           Anima (2019)   \n",
       "9   8075496      23                             Bao (2018)   \n",
       "\n",
       "                                   genre  \n",
       "0                            Short|Drama  \n",
       "1     Short|Action|Comedy|Fantasy|Sci-Fi  \n",
       "2            Documentary|Short|Crime|War  \n",
       "3                 Short|Adventure|Comedy  \n",
       "4                 Animation|Short|Family  \n",
       "5                           Short|Comedy  \n",
       "6             Short|Drama|Romance|Sci-Fi  \n",
       "7  Animation|Short|Comedy|Family|Romance  \n",
       "8                            Short|Music  \n",
       "9         Animation|Short|Family|Fantasy  "
      ]
     },
     "execution_count": 56,
     "metadata": {},
     "output_type": "execute_result"
    }
   ],
   "source": [
    "top_n_chart(genres[genres['genre'].str.contains('Short')], ratings_aggr,10)"
   ]
  },
  {
   "cell_type": "code",
   "execution_count": 72,
   "id": "played-possibility",
   "metadata": {},
   "outputs": [],
   "source": [
    "def create_chart_dict(genre_df, movie_list, ratings_df, n=10):\n",
    "    chart_dict = {}\n",
    "    \n",
    "    # global list\n",
    "    chart_dict['Global'] = top_n_chart(movie_list,ratings_df, n)\n",
    "    \n",
    "    # genre charts\n",
    "    for gen in genre_df['index']:\n",
    "        chart_dict[gen] = top_n_chart(movie_list[movie_list['genre'].str.contains(gen)],ratings_df, n)\n",
    "    \n",
    "    return chart_dict"
   ]
  },
  {
   "cell_type": "code",
   "execution_count": 73,
   "id": "nutritional-rwanda",
   "metadata": {},
   "outputs": [],
   "source": [
    "chart_dict = create_chart_dict(genre_count_df, genres, ratings_aggr, n=10)"
   ]
  },
  {
   "cell_type": "code",
   "execution_count": 79,
   "id": "silver-cigarette",
   "metadata": {},
   "outputs": [
    {
     "data": {
      "text/html": [
       "<div>\n",
       "<style scoped>\n",
       "    .dataframe tbody tr th:only-of-type {\n",
       "        vertical-align: middle;\n",
       "    }\n",
       "\n",
       "    .dataframe tbody tr th {\n",
       "        vertical-align: top;\n",
       "    }\n",
       "\n",
       "    .dataframe thead th {\n",
       "        text-align: right;\n",
       "    }\n",
       "</style>\n",
       "<table border=\"1\" class=\"dataframe\">\n",
       "  <thead>\n",
       "    <tr style=\"text-align: right;\">\n",
       "      <th></th>\n",
       "      <th>movie_id</th>\n",
       "      <th>rating</th>\n",
       "      <th>title</th>\n",
       "      <th>genre</th>\n",
       "    </tr>\n",
       "  </thead>\n",
       "  <tbody>\n",
       "    <tr>\n",
       "      <th>0</th>\n",
       "      <td>1199456</td>\n",
       "      <td>4</td>\n",
       "      <td>Eid Mubarak (1965)</td>\n",
       "      <td>nan</td>\n",
       "    </tr>\n",
       "    <tr>\n",
       "      <th>1</th>\n",
       "      <td>0166486</td>\n",
       "      <td>4</td>\n",
       "      <td>Arak el-balah (1998)</td>\n",
       "      <td>nan</td>\n",
       "    </tr>\n",
       "    <tr>\n",
       "      <th>2</th>\n",
       "      <td>2424752</td>\n",
       "      <td>4</td>\n",
       "      <td>Belenggu (2012)</td>\n",
       "      <td>nan</td>\n",
       "    </tr>\n",
       "    <tr>\n",
       "      <th>3</th>\n",
       "      <td>2857942</td>\n",
       "      <td>4</td>\n",
       "      <td>Tang Wong (2013)</td>\n",
       "      <td>nan</td>\n",
       "    </tr>\n",
       "    <tr>\n",
       "      <th>4</th>\n",
       "      <td>2915232</td>\n",
       "      <td>3</td>\n",
       "      <td>Shotgun Garfunkel (2013)</td>\n",
       "      <td>nan</td>\n",
       "    </tr>\n",
       "    <tr>\n",
       "      <th>5</th>\n",
       "      <td>8079546</td>\n",
       "      <td>2</td>\n",
       "      <td>Artist at Work: Annie Wood (2018)</td>\n",
       "      <td>nan</td>\n",
       "    </tr>\n",
       "    <tr>\n",
       "      <th>6</th>\n",
       "      <td>210156</td>\n",
       "      <td>2</td>\n",
       "      <td>The Lion's Den (1998)</td>\n",
       "      <td>nan</td>\n",
       "    </tr>\n",
       "    <tr>\n",
       "      <th>7</th>\n",
       "      <td>7064776</td>\n",
       "      <td>2</td>\n",
       "      <td>Khamis wa Jumah: Huroob Ijbari (2017)</td>\n",
       "      <td>nan</td>\n",
       "    </tr>\n",
       "    <tr>\n",
       "      <th>8</th>\n",
       "      <td>1654082</td>\n",
       "      <td>2</td>\n",
       "      <td>Un mundo cuadrado (2011)</td>\n",
       "      <td>nan</td>\n",
       "    </tr>\n",
       "    <tr>\n",
       "      <th>9</th>\n",
       "      <td>0233905</td>\n",
       "      <td>2</td>\n",
       "      <td>Hysteria (1996)</td>\n",
       "      <td>nan</td>\n",
       "    </tr>\n",
       "  </tbody>\n",
       "</table>\n",
       "</div>"
      ],
      "text/plain": [
       "  movie_id  rating                                  title genre\n",
       "0  1199456       4                     Eid Mubarak (1965)   nan\n",
       "1  0166486       4                   Arak el-balah (1998)   nan\n",
       "2  2424752       4                        Belenggu (2012)   nan\n",
       "3  2857942       4                       Tang Wong (2013)   nan\n",
       "4  2915232       3               Shotgun Garfunkel (2013)   nan\n",
       "5  8079546       2      Artist at Work: Annie Wood (2018)   nan\n",
       "6   210156       2                  The Lion's Den (1998)   nan\n",
       "7  7064776       2  Khamis wa Jumah: Huroob Ijbari (2017)   nan\n",
       "8  1654082       2               Un mundo cuadrado (2011)   nan\n",
       "9  0233905       2                        Hysteria (1996)   nan"
      ]
     },
     "execution_count": 79,
     "metadata": {},
     "output_type": "execute_result"
    }
   ],
   "source": [
    "chart_dict['nan']"
   ]
  },
  {
   "cell_type": "markdown",
   "id": "becoming-bride",
   "metadata": {},
   "source": [
    "Filtered dictionary for categories with at least a hundred films"
   ]
  },
  {
   "cell_type": "code",
   "execution_count": 77,
   "id": "proprietary-calvin",
   "metadata": {},
   "outputs": [],
   "source": [
    "popular_categories = genre_count_df[genre_count_df['count'] >= 100]['index']"
   ]
  },
  {
   "cell_type": "code",
   "execution_count": 80,
   "id": "bound-friendly",
   "metadata": {},
   "outputs": [],
   "source": [
    "popular_categories_dict = { pop_key: chart_dict[pop_key] for pop_key in popular_categories }"
   ]
  },
  {
   "cell_type": "code",
   "execution_count": 83,
   "id": "suspected-peninsula",
   "metadata": {},
   "outputs": [
    {
     "data": {
      "text/html": [
       "<div>\n",
       "<style scoped>\n",
       "    .dataframe tbody tr th:only-of-type {\n",
       "        vertical-align: middle;\n",
       "    }\n",
       "\n",
       "    .dataframe tbody tr th {\n",
       "        vertical-align: top;\n",
       "    }\n",
       "\n",
       "    .dataframe thead th {\n",
       "        text-align: right;\n",
       "    }\n",
       "</style>\n",
       "<table border=\"1\" class=\"dataframe\">\n",
       "  <thead>\n",
       "    <tr style=\"text-align: right;\">\n",
       "      <th></th>\n",
       "      <th>movie_id</th>\n",
       "      <th>rating</th>\n",
       "      <th>title</th>\n",
       "      <th>genre</th>\n",
       "    </tr>\n",
       "  </thead>\n",
       "  <tbody>\n",
       "    <tr>\n",
       "      <th>0</th>\n",
       "      <td>1199456</td>\n",
       "      <td>4</td>\n",
       "      <td>Eid Mubarak (1965)</td>\n",
       "      <td>nan</td>\n",
       "    </tr>\n",
       "    <tr>\n",
       "      <th>1</th>\n",
       "      <td>0166486</td>\n",
       "      <td>4</td>\n",
       "      <td>Arak el-balah (1998)</td>\n",
       "      <td>nan</td>\n",
       "    </tr>\n",
       "    <tr>\n",
       "      <th>2</th>\n",
       "      <td>2424752</td>\n",
       "      <td>4</td>\n",
       "      <td>Belenggu (2012)</td>\n",
       "      <td>nan</td>\n",
       "    </tr>\n",
       "    <tr>\n",
       "      <th>3</th>\n",
       "      <td>2857942</td>\n",
       "      <td>4</td>\n",
       "      <td>Tang Wong (2013)</td>\n",
       "      <td>nan</td>\n",
       "    </tr>\n",
       "    <tr>\n",
       "      <th>4</th>\n",
       "      <td>2915232</td>\n",
       "      <td>3</td>\n",
       "      <td>Shotgun Garfunkel (2013)</td>\n",
       "      <td>nan</td>\n",
       "    </tr>\n",
       "    <tr>\n",
       "      <th>5</th>\n",
       "      <td>8079546</td>\n",
       "      <td>2</td>\n",
       "      <td>Artist at Work: Annie Wood (2018)</td>\n",
       "      <td>nan</td>\n",
       "    </tr>\n",
       "    <tr>\n",
       "      <th>6</th>\n",
       "      <td>210156</td>\n",
       "      <td>2</td>\n",
       "      <td>The Lion's Den (1998)</td>\n",
       "      <td>nan</td>\n",
       "    </tr>\n",
       "    <tr>\n",
       "      <th>7</th>\n",
       "      <td>7064776</td>\n",
       "      <td>2</td>\n",
       "      <td>Khamis wa Jumah: Huroob Ijbari (2017)</td>\n",
       "      <td>nan</td>\n",
       "    </tr>\n",
       "    <tr>\n",
       "      <th>8</th>\n",
       "      <td>1654082</td>\n",
       "      <td>2</td>\n",
       "      <td>Un mundo cuadrado (2011)</td>\n",
       "      <td>nan</td>\n",
       "    </tr>\n",
       "    <tr>\n",
       "      <th>9</th>\n",
       "      <td>0233905</td>\n",
       "      <td>2</td>\n",
       "      <td>Hysteria (1996)</td>\n",
       "      <td>nan</td>\n",
       "    </tr>\n",
       "  </tbody>\n",
       "</table>\n",
       "</div>"
      ],
      "text/plain": [
       "  movie_id  rating                                  title genre\n",
       "0  1199456       4                     Eid Mubarak (1965)   nan\n",
       "1  0166486       4                   Arak el-balah (1998)   nan\n",
       "2  2424752       4                        Belenggu (2012)   nan\n",
       "3  2857942       4                       Tang Wong (2013)   nan\n",
       "4  2915232       3               Shotgun Garfunkel (2013)   nan\n",
       "5  8079546       2      Artist at Work: Annie Wood (2018)   nan\n",
       "6   210156       2                  The Lion's Den (1998)   nan\n",
       "7  7064776       2  Khamis wa Jumah: Huroob Ijbari (2017)   nan\n",
       "8  1654082       2               Un mundo cuadrado (2011)   nan\n",
       "9  0233905       2                        Hysteria (1996)   nan"
      ]
     },
     "execution_count": 83,
     "metadata": {},
     "output_type": "execute_result"
    }
   ],
   "source": [
    "popular_categories_dict.pop('nan',None)"
   ]
  },
  {
   "cell_type": "code",
   "execution_count": 84,
   "id": "colonial-induction",
   "metadata": {},
   "outputs": [
    {
     "data": {
      "text/plain": [
       "dict_keys(['Drama', 'Comedy', 'Thriller', 'Romance', 'Action', 'Crime', 'Horror', 'Documentary', 'Adventure', 'Mystery', 'Sci-Fi', 'Fantasy', 'Family', 'Biography', 'Short', 'History', 'Animation', 'War', 'Music', 'Sport', 'Musical', 'Western', 'Film-Noir', 'News'])"
      ]
     },
     "execution_count": 84,
     "metadata": {},
     "output_type": "execute_result"
    }
   ],
   "source": [
    "popular_categories_dict.keys()"
   ]
  },
  {
   "cell_type": "markdown",
   "id": "combined-implementation",
   "metadata": {},
   "source": [
    "## Export charts"
   ]
  },
  {
   "cell_type": "code",
   "execution_count": 85,
   "id": "social-inside",
   "metadata": {},
   "outputs": [
    {
     "data": {
      "text/plain": [
       "'C:\\\\Users\\\\Rendszergazda\\\\Documents\\\\GitHub\\\\recommander'"
      ]
     },
     "execution_count": 85,
     "metadata": {},
     "output_type": "execute_result"
    }
   ],
   "source": [
    "pwd"
   ]
  },
  {
   "cell_type": "code",
   "execution_count": 87,
   "id": "organized-miniature",
   "metadata": {},
   "outputs": [
    {
     "name": "stdout",
     "output_type": "stream",
     "text": [
      " A meghajt˘ban (C) l‚v‹ k”tetnek nincs cˇmk‚je.\n",
      " A k”tet sorozatsz ma: 582B-63DE\n",
      "\n",
      " C:\\Users\\Rendszergazda\\Documents\\GitHub\\recommander tartalma:\n",
      "\n",
      "2021.03.30.  14:27    <DIR>          .\n",
      "2021.03.30.  14:27    <DIR>          ..\n",
      "2021.03.30.  11:06    <DIR>          .ipynb_checkpoints\n",
      "2021.03.30.  11:52    <DIR>          charts\n",
      "2021.03.20.  21:02    <DIR>          data\n",
      "2021.03.30.  11:24            79˙927 Data Analysis.ipynb\n",
      "2021.03.25.  20:30    <DIR>          moviegeek\n",
      "2021.03.30.  14:27            39˙255 Non-personalised Recommendations.ipynb\n",
      "2021.03.30.  11:11    <DIR>          solutions\n",
      "               2 f jl             119˙182 b jt\n",
      "               7 k”nyvt r  37˙830˙103˙040 b jt szabad\n"
     ]
    }
   ],
   "source": [
    "ls"
   ]
  },
  {
   "cell_type": "code",
   "execution_count": 90,
   "id": "hairy-relaxation",
   "metadata": {},
   "outputs": [],
   "source": [
    "for chart_key in popular_categories_dict.keys():\n",
    "    popular_categories_dict[chart_key].to_csv(\"{}/{}.csv\".format('charts', chart_key), index=False)"
   ]
  }
 ],
 "metadata": {
  "kernelspec": {
   "display_name": "Python 3",
   "language": "python",
   "name": "python3"
  },
  "language_info": {
   "codemirror_mode": {
    "name": "ipython",
    "version": 3
   },
   "file_extension": ".py",
   "mimetype": "text/x-python",
   "name": "python",
   "nbconvert_exporter": "python",
   "pygments_lexer": "ipython3",
   "version": "3.6.13"
  }
 },
 "nbformat": 4,
 "nbformat_minor": 5
}
